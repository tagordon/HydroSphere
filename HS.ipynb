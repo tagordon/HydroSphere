{
 "cells": [
  {
   "cell_type": "code",
   "execution_count": null,
   "id": "b1f3ca5a-46ec-4c68-93d5-3910a21da4a0",
   "metadata": {
    "tags": []
   },
   "outputs": [],
   "source": [
    "import matplotlib.pyplot as plt\n",
    "from HydroSphere import HydroSphere"
   ]
  },
  {
   "cell_type": "code",
   "execution_count": null,
   "id": "465bf8d9-9ffc-43f7-baff-885cf957b227",
   "metadata": {
    "tags": []
   },
   "outputs": [],
   "source": [
    "# helper function to compute structure as a function of bulk density and equilibrium surface temperature\n",
    "# assuming core density, water fraction, radius, and surface pressure\n",
    "def compute_structure(\n",
    "    rho_bulk, \n",
    "    Teq, \n",
    "    rho_core, \n",
    "    fwater, \n",
    "    R, \n",
    "    Psurf, \n",
    "    resolution=100, \n",
    "    M_thresh=0.01, \n",
    "    savefile=None\n",
    "):\n",
    "    \n",
    "    rho_bulk *= 5514\n",
    "    rho_core *= 5514\n",
    "    R *= 6.678e6\n",
    "    M = (4/3) * np.pi * R**3 * rho_bulk\n",
    "    Mw = M * mf\n",
    "    Rc = (M * (1 - mf) * 3 / (4 * np.pi * rho_core)) ** (1/3)\n",
    "    \n",
    "    res = np.array(HydroSphere(Psurf, Teq, Mw, Rc, rho_core))\n",
    "    \n",
    "    if savefile is not None:\n",
    "        \n",
    "        # columns are z, rho, alpha, Cp, dT_dz, phase, T, P, g\n",
    "        np.savetxt(savefile, res.T)\n",
    "    else:\n",
    "        return res"
   ]
  },
  {
   "cell_type": "code",
   "execution_count": null,
   "id": "5e601b38-a7d7-420b-b656-0f7353609f31",
   "metadata": {
    "tags": []
   },
   "outputs": [],
   "source": [
    "# trappist-1 G params\n",
    "\n",
    "rhoc = 1.5 # core density in earth units\n",
    "R = 0.92 # in earth units\n",
    "Ps = 0.1 # MPa \n",
    "# temps b, c, d, e, f, g: 400, 341, 288, 251, 219, 198, 168 from Agol 2020\n",
    "Teq = 251\n",
    "\n",
    "rho, mf = 0.889, 0.01\n",
    "\n",
    "%time res = compute_structure(rho, Teq, rhoc, mf, R, Ps, M_thresh=0.1, resolution=50)\n",
    "z, rho, alpha, Cp, dT_dz, phase, T, P, g = res"
   ]
  },
  {
   "cell_type": "code",
   "execution_count": null,
   "id": "e32fb258-05ef-472c-ad96-9f95af75b893",
   "metadata": {
    "tags": []
   },
   "outputs": [],
   "source": [
    "plt.plot(z, phase)\n",
    "plt.figure()\n",
    "plt.plot(z, T)"
   ]
  },
  {
   "cell_type": "code",
   "execution_count": null,
   "id": "fd21c0d1-a5b2-4460-b5ab-720ebb95e1d3",
   "metadata": {
    "tags": []
   },
   "outputs": [],
   "source": [
    "D = np.linspace(0.5, 1.0, 20)\n",
    "fw = np.linspace(0.001, 0.01, 20)\n",
    "D, fw = np.meshgrid(D, fw)\n",
    "coords = [(i, D, fw) for i, (D, fw) in enumerate(zip(D.flatten(), fw.flatten()))]\n",
    "coords"
   ]
  },
  {
   "cell_type": "code",
   "execution_count": null,
   "id": "c6c9fae1-bdff-48e2-a423-097ef9ad56db",
   "metadata": {
    "tags": []
   },
   "outputs": [],
   "source": [
    "def f(c):\n",
    "    i, D, T = c\n",
    "    savefile = 'out{0}.dat'.format(i)\n",
    "    compute_structure(D, T, rhoc, mf, R, Ps, savefile=savefile)\n",
    "\n",
    "coords = [(i, D, T) for i, (D, T) in enumerate(zip(T, Dens))]"
   ]
  },
  {
   "cell_type": "code",
   "execution_count": null,
   "id": "7446ba96-1918-4931-8f36-02b8dba778b5",
   "metadata": {
    "tags": []
   },
   "outputs": [],
   "source": [
    "D = np.linspace(0.5, 1.5, 5)\n",
    "T = np.linspace(150, 250, 5)\n",
    "D, T = np.meshgrid(D, T)\n",
    "coords = [(i, D, T) for i, (D, T) in enumerate(zip(D.flatten(), T.flatten()))]"
   ]
  },
  {
   "cell_type": "code",
   "execution_count": null,
   "id": "fb969127-d0bf-423a-9d71-251e58c9e3f1",
   "metadata": {
    "tags": []
   },
   "outputs": [],
   "source": [
    "D = np.linspace(0.5, 1.5, 5)\n",
    "T = np.linspace(150, 250, 5)\n",
    "D, T = np.meshgrid(D, T)\n",
    "coords = [(i, D, T) for i, (D, T) in enumerate(zip(D.flatten(), T.flatten()))]"
   ]
  },
  {
   "cell_type": "code",
   "execution_count": null,
   "id": "161b8d06-4335-4dde-af8e-daff98de2040",
   "metadata": {
    "tags": []
   },
   "outputs": [],
   "source": [
    "np.savetxt('test.dat', coords)"
   ]
  },
  {
   "cell_type": "code",
   "execution_count": null,
   "id": "3ddbd21a-f105-4a4b-a39d-b74592f4b190",
   "metadata": {
    "tags": []
   },
   "outputs": [],
   "source": [
    "z, rho, alpha, Cp, dT_dz, phase, T, P, g = np.loadtxt('out0.dat').T\n",
    "water_layer = z[np.where(phase == 2)]\n",
    "water_depth = water_layer[-1] - water_layer[0]\n",
    "in_contact = phase[-1] == 2"
   ]
  },
  {
   "cell_type": "code",
   "execution_count": null,
   "id": "67802739-24e1-42ff-b4ae-52c8de5cde0e",
   "metadata": {
    "tags": []
   },
   "outputs": [],
   "source": [
    "import os\n",
    "keys = np.array([t[3:-4] for t in os.listdir('output')], dtype=np.int64)\n",
    "coords[keys[0]]"
   ]
  },
  {
   "cell_type": "code",
   "execution_count": null,
   "id": "251c4dfa-5fb3-48ee-9f6a-8f7ae835d849",
   "metadata": {
    "tags": []
   },
   "outputs": [],
   "source": [
    "files = os.listdir('output')\n",
    "i, rho, T = np.loadtxt('test.dat').T\n",
    "dx, dy = len(np.unique(rho)), len(np.unique(T))\n",
    "depth = np.zeros_like(rho)\n",
    "contact = np.zeros_like(rho)\n",
    "for f in files:\n",
    "    j = np.int64(f[3:-4])\n",
    "    z, _, _, _, _, phase, _, _, _ = np.loadtxt('output/' + f).T\n",
    "    water_layer = z[np.where(phase == 2)]\n",
    "    if len(water_layer) > 0:\n",
    "        water_depth = water_layer[-1] - water_layer[0]\n",
    "    else:\n",
    "        water_depth = 0\n",
    "    in_contact = phase[-1] == 2\n",
    "    depth[j] = water_depth\n",
    "    contact[j] = in_contact\n",
    "    \n",
    "depth = depth.reshape(dx, dy)\n",
    "contact = contact.reshape(dx, dy)"
   ]
  },
  {
   "cell_type": "code",
   "execution_count": null,
   "id": "2969815a-79cc-4a77-98ac-c887b7622696",
   "metadata": {
    "tags": []
   },
   "outputs": [],
   "source": [
    "D = np.linspace(0.5, 1.5, 50)\n",
    "fw = np.linspace(0.001, 0.01, 50)\n",
    "\n",
    "outdir = 't1f'\n",
    "depth = np.loadtxt(outdir + '/depth.dat')\n",
    "contact_phase = np.loadtxt(outdir + '/contact_phase.dat')\n",
    "water_temp_min = np.loadtxt(outdir + '/water_temp_min.dat')\n",
    "water_temp_max = np.loadtxt(outdir + '/water_temp_max.dat')\n",
    "base_pressures = np.loadtxt(outdir + '/base_pressures.dat')\n",
    "\n",
    "plt.figure(figsize=(12, 10))\n",
    "plt.pcolormesh(fw, D, base_pressures.T, cmap=plt.cm.Blues)\n",
    "plt.colorbar().set_label(label='pressure at core-hydrosphere interface (MPa)', size=15)\n",
    "\n",
    "plt.contour(fw, D, contact_phase.T, [1, 2, 5, 6, 7], colors='k', linewidths=3)\n",
    "\n",
    "#plt.annotate('ice-Ih', (0.0015, 0.7), fontsize=15)\n",
    "#plt.annotate('liquid water', (0.0025, 0.9), fontsize=15)\n",
    "#plt.annotate('ice-V', (0.0032, 1.1), fontsize=15)\n",
    "#plt.annotate('ice-VI', (0.004, 1.3), fontsize=15)\n",
    "\n",
    "#rho1, rho2 = 0.889 - 0.033, 0.889 + 0.03\n",
    "#plt.axhspan(rho1, rho2, color='k', alpha=0.3)\n",
    "#plt.axhline(rho1, linestyle='--', color='k')\n",
    "#plt.axhline(rho2, linestyle='--', color='k')\n",
    "\n",
    "plt.xlim(0.001, 0.01)\n",
    "plt.ylim(0.5, 1.5)\n",
    "plt.xlabel('water mass fraction', fontsize=15)\n",
    "plt.ylabel('core density (Earth units)', fontsize=15)\n",
    "plt.title('Trappist-1f', fontsize=25)\n",
    "\n",
    "plt.savefig('/Users/tgordon/Desktop/t1f_core_interface.pdf')"
   ]
  },
  {
   "cell_type": "code",
   "execution_count": null,
   "id": "87802260-b064-4f31-b97f-ef75d48b5786",
   "metadata": {
    "tags": []
   },
   "outputs": [],
   "source": [
    "fig = plt.figure()\n",
    "ax = plt.gca()\n",
    "type(fig)\n",
    "isinstance(fig, mpl.figure.Figure)"
   ]
  },
  {
   "cell_type": "code",
   "execution_count": null,
   "id": "0803f9a8-62ea-48df-928a-6f8817b60a74",
   "metadata": {
    "tags": []
   },
   "outputs": [],
   "source": [
    "import plotting\n",
    "import matplotlib.pyplot as plt\n",
    "\n",
    "fig = plt.figure(figsize=(9, 9))\n",
    "#ax = plt.gca()\n",
    "file = 't1d/contact_phase.out'\n",
    "x = np.linspace(0.001, 0.03, 50)\n",
    "y = np.linspace(0.5, 1.5, 50)\n",
    "\n",
    "plotting.plotphase(fig, file, x, y, xlabel='water mass fraction', ylabel=r'core density ($\\rho_\\oplus$)', name='Trappist-1d');"
   ]
  },
  {
   "cell_type": "code",
   "execution_count": null,
   "id": "19cab593-f975-4bde-9e31-c025c7a4c8f1",
   "metadata": {
    "tags": []
   },
   "outputs": [],
   "source": [
    "names = ['Trappist-1d', 'Trappist-1e', 'Trappist-1f', 'Trappist-1g']\n",
    "files = ['t1d/contact_phase.out', 't1e/contact_phase.out', 't1f/contact_phase.out', 't1g/contact_phase.out']\n",
    "fig, axs = plt.subplots(2, 2, figsize=(12, 11), sharey=True, sharex=True)\n",
    "#axs = axs.flatten()\n",
    "\n",
    "plotting.plotphase_multiple(fig, axs, files, x, y, xlabel=None, ylabel=None, names=names)"
   ]
  },
  {
   "cell_type": "code",
   "execution_count": null,
   "id": "5359982b-80ae-4fd2-8085-463815768d4e",
   "metadata": {
    "tags": []
   },
   "outputs": [],
   "source": [
    "import matplotlib as mpl\n",
    "import cmasher as cmr\n",
    "\n",
    "outdirs = ['t1d', 't1e', 't1f', 't1g']\n",
    "names = ['Trappist-1d', 'Trappist-1e', 'Trappist-1f', 'Trappist-1g']\n",
    "cmap = cmr.get_sub_cmap('cmr.arctic_r', 0.0, 0.8)\n",
    "\n",
    "fig, axs = plt.subplots(2, 2, figsize=(12, 11), sharey=True, sharex=True)\n",
    "axs = axs.flatten()\n",
    "plt.subplots_adjust(wspace=0.05, hspace=0.05)\n",
    "\n",
    "D = np.linspace(0.5, 1.5, 50)\n",
    "fw = np.linspace(0.001, 0.03, 50)\n",
    "\n",
    "for i, outdir in enumerate(outdirs):\n",
    "    depth = np.loadtxt(outdir + '/depth.out')\n",
    "    contact_phase = np.loadtxt(outdir + '/contact_phase.out')\n",
    "    water_temp_min = np.loadtxt(outdir + '/water_temp_min.out')\n",
    "    water_temp_max = np.loadtxt(outdir + '/water_temp_max.out')\n",
    "    base_pressures = np.loadtxt(outdir + '/base_pressures.out')\n",
    "\n",
    "    #bounds = [-0.5, 0.5, 1.5, 2.5, 3.5, 4.5, 5.5, 6.5, 7.5]\n",
    "    bounds = [-0.5, 0.5, 1.5, 2.5, 3.5, 4.5, 5.5, 6.5]\n",
    "    norm = mpl.colors.BoundaryNorm(bounds, cmap.N)\n",
    "\n",
    "    contact_phase[contact_phase > 4] = contact_phase[contact_phase > 4] - 1\n",
    "    axs[i].pcolormesh(fw, D, contact_phase.T, cmap=cmap, vmin=0, vmax=6,rasterized=True)\n",
    "    #axs[i].contour(fw, D, contact_phase.T, np.unique(contact_phase), colors='k', linewidths=5)\n",
    "    #axs[i].set_title(names[i] + '\\n', fontsize=20)\n",
    "    #axs[i].set_xlabel('water mass fraction', fontsize=15)\n",
    "    \n",
    "axs[0].set_ylabel(r'density of rocky core ($\\rho_\\oplus$)', fontsize=15)\n",
    "axs[2].set_ylabel(r'density of rocky core ($\\rho_\\oplus$)', fontsize=15)\n",
    "axs[2].set_xlabel('water mass fraction', fontsize=15)\n",
    "axs[3].set_xlabel('water mass fraction', fontsize=15)\n",
    "\n",
    "[\n",
    "    ax.annotate(\n",
    "        name, \n",
    "        (0.6, 0.85), \n",
    "        xycoords='axes fraction', \n",
    "        fontsize=20, \n",
    "        bbox=dict(facecolor=cmap(1.0), alpha=1.0, edgecolor=None, pad=10.0)\n",
    "    ) \n",
    "    for name, ax in zip(names, axs)\n",
    "]\n",
    "\n",
    "\n",
    "[\n",
    "    ax.annotate(\n",
    "        name, \n",
    "        (0.6, 0.85), \n",
    "        xycoords='axes fraction', \n",
    "        fontsize=20, \n",
    "        bbox=dict(facecolor='white', alpha=0.5, edgecolor=None, pad=10.0)\n",
    "    ) \n",
    "    for name, ax in zip(names, axs)\n",
    "]\n",
    "\n",
    "\n",
    "[ax.grid() for ax in axs]\n",
    "[ax.set_xlim(0.001 - np.mean(np.diff(fw))/2, 0.03) for ax in axs]\n",
    "[ax.set_ylim(0.5, 1.5) for ax in axs]\n",
    "\n",
    "fig.suptitle('Phase of water in contact with rocky core', fontsize=20)\n",
    "fig.subplots_adjust(top=0.92)\n",
    "\n",
    "cax = fig.add_axes([0.15, 0.03, 0.71, 0.03])\n",
    "cb = fig.colorbar(mpl.cm.ScalarMappable(norm=norm, cmap=cmap), cax=cax, orientation='horizontal')\n",
    "cb.set_ticks([0, 1, 2, 3, 4, 5, 6])\n",
    "cb.set_ticklabels(['liquid water', 'ice-Ih', 'ice-II', 'ice-III', 'ice-V', 'ice-VI', 'ice-VII'], fontsize=15)\n",
    "cb.ax.tick_params(size=0)\n",
    "\n",
    "plt.savefig('/Users/tgordon/Desktop/trappist_structures.pdf', bbox_inches = \"tight\")"
   ]
  },
  {
   "cell_type": "code",
   "execution_count": null,
   "id": "891c4991-15f1-4865-b851-5e686de73c13",
   "metadata": {
    "tags": []
   },
   "outputs": [],
   "source": [
    "import matplotlib as mpl\n",
    "\n",
    "planets = ['d', 'e', 'f', 'g']\n",
    "names = ['Trappist-1d', 'Trappist-1e', 'Trappist-1f', 'Trappist-1g']\n",
    "cmap = cmr.get_sub_cmap('cmr.arctic_r', 0.0, 0.8)\n",
    "\n",
    "fig, axs = plt.subplots(2, 2, figsize=(12, 11), sharey=True, sharex=True)\n",
    "axs = axs.flatten()\n",
    "plt.subplots_adjust(wspace=0.05, hspace=0.05)\n",
    "\n",
    "D = np.linspace(0.5, 1.5, 50)\n",
    "\n",
    "indices = ['5', '10', '15', '20', '25', '30']\n",
    "\n",
    "for ind in indices:\n",
    "    for i, planet in enumerate(planets):\n",
    "        zprofile = np.loadtxt('zprofile' + ind + '_' + planet + '.out')\n",
    "\n",
    "        bounds = [-0.5, 0.5, 1.5, 2.5, 3.5, 4.5, 5.5, 6.5, 7.5]\n",
    "        norm = mpl.colors.BoundaryNorm(bounds, cmap.N)\n",
    "\n",
    "        axs[i].pcolormesh(np.linspace(0, 1, 100), D, zprofile, cmap=cmap, vmin=0, vmax=7,rasterized=True)\n",
    "    \n",
    "    axs[0].set_ylabel(r'density of rocky core ($\\rho_\\oplus$)', fontsize=15)\n",
    "    axs[2].set_ylabel(r'density of rocky core ($\\rho_\\oplus$)', fontsize=15)\n",
    "    axs[2].set_xlabel(r'depth within hydrosphere $(z/z_w)$', fontsize=15)\n",
    "    axs[3].set_xlabel(r'depth within hydrosphere $(z/z_w)$', fontsize=15)\n",
    "\n",
    "\n",
    "    [\n",
    "        ax.annotate(\n",
    "            name, \n",
    "            (0.1, 0.15), \n",
    "            xycoords='axes fraction', \n",
    "            fontsize=20, \n",
    "            bbox=dict(facecolor='white', alpha=0.5, edgecolor=None, pad=10.0)\n",
    "        ) \n",
    "        for name, ax in zip(names, axs)\n",
    "    ]\n",
    "\n",
    "\n",
    "    [ax.grid() for ax in axs]\n",
    "    [ax.set_xlim(-0.01, 1.0) for ax in axs]\n",
    "    [ax.set_ylim(0.5, 1.5) for ax in axs]\n",
    "\n",
    "    fig.suptitle('hydrosphere structure', fontsize=20)\n",
    "    fig.subplots_adjust(top=0.92)\n",
    "\n",
    "    cax = fig.add_axes([0.15, 0.03, 0.71, 0.03])\n",
    "    cb = fig.colorbar(mpl.cm.ScalarMappable(norm=norm, cmap=cmap), cax=cax, orientation='horizontal')\n",
    "    cb.set_ticks([0, 1, 2, 3, 4, 5, 6, 7])\n",
    "    cb.set_ticklabels(['liquid water', 'ice-Ih', 'ice-II', 'ice-III', 'ice-IV', 'ice-V', 'ice-VI', 'ice-VII'], fontsize=15)\n",
    "    cb.ax.tick_params(size=0)\n",
    "\n",
    "    plt.savefig('/Users/tgordon/Desktop/trappist_profiles_' + ind + '.pdf', bbox_inches = \"tight\")"
   ]
  },
  {
   "cell_type": "code",
   "execution_count": null,
   "id": "c85b42b9-bcd6-4ea4-a0e4-1b0416dac225",
   "metadata": {
    "tags": []
   },
   "outputs": [],
   "source": [
    "zprofile"
   ]
  },
  {
   "cell_type": "code",
   "execution_count": null,
   "id": "d81fb1bb-4213-4b48-9169-c8f0369e6bc2",
   "metadata": {
    "tags": []
   },
   "outputs": [],
   "source": [
    "import matplotlib as mpl\n",
    "\n",
    "outdirs = ['t1e', 't1f', 't1g']\n",
    "names = ['Trappist-1e', 'Trappist-1f', 'Trappist-1g']\n",
    "cmap = plt.cm.plasma\n",
    "\n",
    "fig, axs = plt.subplots(1, 3, figsize=(20, 6))\n",
    "plt.subplots_adjust(wspace=0.1)\n",
    "\n",
    "D = np.linspace(0.5, 1.5, 50)\n",
    "fw = np.linspace(0.001, 0.01, 50)\n",
    "\n",
    "for i, outdir in enumerate(outdirs):\n",
    "    depth = np.loadtxt(outdir + '/depth.out')\n",
    "    contact_phase = np.loadtxt(outdir + '/contact_phase.out')\n",
    "    water_temp_min = np.loadtxt(outdir + '/water_temp_min.out')\n",
    "    water_temp_max = np.loadtxt(outdir + '/water_temp_max.out')\n",
    "    base_pressures = np.loadtxt(outdir + '/base_pressures.out')\n",
    "\n",
    "    pcm = axs[i].pcolormesh(fw, D, base_pressures.T, cmap=cmap, vmin=27, vmax=11360)\n",
    "    #axs[i].contour(fw, D, contact_phase.T, np.unique(contact_phase), colors='k', linewidths=5)\n",
    "    axs[i].set_title(names[i])\n",
    "\n",
    "cax = fig.add_axes([0.12, -0.1, 0.78, 0.1])\n",
    "cb = plt.colorbar(pcm, cax=cax, orientation='horizontal')\n",
    "#cb = fig.colorbar(mpl.cm.ScalarMappable(norm=norm, cmap=cmap), cax=cax, orientation='horizontal')\n",
    "#cb.set_ticks([0, 1, 2, 3, 4, 5, 6, 7])\n",
    "#cb.set_ticklabels(['liquid water', 'ice-Ih', 'ice-II', 'ice-III', 'ice-IV', 'ice-V', 'ice-VI', 'ice-VII'], fontsize=15)"
   ]
  },
  {
   "cell_type": "code",
   "execution_count": null,
   "id": "17f5558a-46a2-43a3-b5ae-3334adc23031",
   "metadata": {
    "tags": []
   },
   "outputs": [],
   "source": [
    "np.max(base_pressures)"
   ]
  },
  {
   "cell_type": "code",
   "execution_count": null,
   "id": "c4f84e5c-5bfe-43ac-8a0d-f97136b04814",
   "metadata": {
    "tags": []
   },
   "outputs": [],
   "source": [
    "from scipy.interpolate import bisplrep, bisplev\n",
    "\n",
    "x, y = np.meshgrid(fw, D)\n",
    "z = contact_phase.T\n",
    "\n",
    "x_interp = np.linspace(x.min(), x.max(), 1000)\n",
    "y_interp = np.linspace(y.min(), y.max(), 1000)\n",
    "\n",
    "k=3\n",
    "tck = bisplrep(x, y, z, kx=k, ky=k)\n",
    "z_interp = bisplev(x_interp, y_interp, tck).T\n",
    "\n",
    "plt.contourf(x_interp, y_interp, z_interp, np.unique(contact_phase), cmap=cmap, vmin=0, vmax=7)"
   ]
  },
  {
   "cell_type": "code",
   "execution_count": null,
   "id": "22a30bc0-f55b-418c-8597-84a7702dbd56",
   "metadata": {
    "tags": []
   },
   "outputs": [],
   "source": [
    "plt.imshow(contact_phase.T[::-1])"
   ]
  },
  {
   "cell_type": "code",
   "execution_count": null,
   "id": "ae086a91-6b1e-4716-8b67-4b10b71fff21",
   "metadata": {
    "tags": []
   },
   "outputs": [],
   "source": [
    "# pressure at core interface\n",
    "# temperature at core interface\n",
    "# phase present at interface (at bottom / with ocean) \n",
    "\n",
    "# rocky planet densities -- \n",
    "\n",
    "# fix bulk density according to obs. constraints, \n",
    "# and then vary core density according to possible "
   ]
  },
  {
   "cell_type": "code",
   "execution_count": null,
   "id": "0ca156ae-e018-4edc-a03e-02a8f3fbee0b",
   "metadata": {
    "tags": []
   },
   "outputs": [],
   "source": [
    "x = res.allsegs[0][0][:,0]"
   ]
  },
  {
   "cell_type": "code",
   "execution_count": null,
   "id": "4d1ea78a-171a-4980-b34c-1abe003e74ee",
   "metadata": {
    "tags": []
   },
   "outputs": [],
   "source": [
    "if not 0:\n",
    "    print(1)"
   ]
  },
  {
   "cell_type": "code",
   "execution_count": null,
   "id": "3b1a16cb-7684-449c-8b2b-f9e304704192",
   "metadata": {
    "tags": []
   },
   "outputs": [],
   "source": [
    "arr = np.random.randn(10, 10)\n",
    "np.concatenate([[arr], [arr]]).shape"
   ]
  },
  {
   "cell_type": "code",
   "execution_count": null,
   "id": "24253bf9-697b-4c1a-a3a5-ee6e7a5695f2",
   "metadata": {
    "tags": []
   },
   "outputs": [],
   "source": [
    "i, rho, f = np.loadtxt('key.dat').T\n",
    "i = np.int64(i)"
   ]
  },
  {
   "cell_type": "code",
   "execution_count": null,
   "id": "e51daac0-5bfa-4222-826b-44cfe1d010a4",
   "metadata": {
    "tags": []
   },
   "outputs": [],
   "source": [
    "rho0 = 0.9\n",
    "['out' + str(ind) + '.dat' for ind in i[np.where(rho - rho0 == np.min(rho - rho0))]]"
   ]
  },
  {
   "cell_type": "code",
   "execution_count": null,
   "id": "6de7dc54-422d-43f6-b256-49f05fba5910",
   "metadata": {
    "tags": []
   },
   "outputs": [],
   "source": [
    "arr = []\n",
    "arr.append(np.random.randn(10))\n",
    "arr.append(np.random.randn(10))\n",
    "arr = np.array(arr)"
   ]
  },
  {
   "cell_type": "code",
   "execution_count": null,
   "id": "5ab3cd9c-ea2b-4c81-b52d-008e6b8fb298",
   "metadata": {
    "tags": []
   },
   "outputs": [],
   "source": [
    "arr.dtype"
   ]
  },
  {
   "cell_type": "code",
   "execution_count": null,
   "id": "379de25a-34aa-4a50-8d34-0a195ea77f60",
   "metadata": {
    "tags": []
   },
   "outputs": [],
   "source": [
    "arr1 = np.array([[1, 2], [4, 5], [12, 3], [1, 2], [4, 0]])\n",
    "arr2 = np.array([3, 6, 1, 6, 7])\n",
    "\n",
    "s = np.argsort(arr2)\n",
    "arr1[s]"
   ]
  },
  {
   "cell_type": "code",
   "execution_count": null,
   "id": "bf75e221-1f38-4cc8-bed7-36f604855986",
   "metadata": {
    "tags": []
   },
   "outputs": [],
   "source": [
    "zprofile = np.loadtxt('zprofile_e.out')\n",
    "\n",
    "z = np.linspace(0, 1, 100)\n",
    "rho_core = np.linspace(0.5, 1.5, 50)\n",
    "plt.pcolormesh(z, rho_core, zprofile)"
   ]
  },
  {
   "cell_type": "code",
   "execution_count": null,
   "id": "5e5c165e-e738-409f-a3f8-8ec022cb4c26",
   "metadata": {
    "tags": []
   },
   "outputs": [],
   "source": [
    "plt.plot(zprofile[46])"
   ]
  },
  {
   "cell_type": "code",
   "execution_count": null,
   "id": "b2af6904-2a5e-4c36-9bf9-923bc11ffa37",
   "metadata": {
    "tags": []
   },
   "outputs": [],
   "source": [
    "z = np.linspace(0, 1, zprofile.shape[1])\n",
    "z[np.where(np.diff(zprofile[46]) > 0)]"
   ]
  },
  {
   "cell_type": "code",
   "execution_count": null,
   "id": "5363ec26-6fa5-4aa4-ab7d-a73b49a25b7d",
   "metadata": {
    "tags": []
   },
   "outputs": [],
   "source": [
    "zprofile[46]"
   ]
  },
  {
   "cell_type": "code",
   "execution_count": null,
   "id": "f89838b7-75ab-4560-88b0-8e8dbbae84a2",
   "metadata": {
    "tags": []
   },
   "outputs": [],
   "source": [
    "from matplotlib import patches\n",
    "\n",
    "zprofile = np.loadtxt('zprofile20_e.out')\n",
    "zp = zprofile[10]\n",
    "\n",
    "z = np.linspace(0, 1, len(zp))\n",
    "edge_ids = np.where(np.abs(np.diff(zp)) > 0)\n",
    "edges = z[edge_ids]\n",
    "phases = np.concatenate([zp[edge_ids], [zp[-1]]])[::-1]\n",
    "\n",
    "ex = 30\n",
    "wedges = [patches.Wedge((0.5, 0), 0.5 + d / 2, 90-ex, 90+ex, facecolor=cmap(p/7), edgecolor='k', linewidth=1) for p, d in zip(phases, edges)]\n",
    "wedges.append(patches.Wedge((0.5, 0), 1, 90-ex, 90+ex, facecolor=cmap(zp[0]/7), edgecolor='k', linewidth=1))\n",
    "wedges = wedges[::-1]\n",
    "\n",
    "fig = plt.figure(figsize=(15, 8))\n",
    "ices = ['liquid water', 'ice-Ih', 'ice-II', 'ice-III', 'ice-IV', 'ice-V', 'ice-VI', 'ice-VII']\n",
    "ylocs = np.concatenate([[0], edges]) + np.diff(np.concatenate([[0], edges, [1]]))/3\n",
    "ylocs = 0.5 + ylocs / 2\n",
    "print(ylocs)\n",
    "\n",
    "xloc = lambda y: 0.55 + np.tan(ex * np.pi / 180) * y \n",
    "ylocs = np.cos(ex * np.pi / 180) * ylocs\n",
    "\n",
    "[plt.gca().annotate(ices[i], xy=(xloc(y), y), xycoords='data', fontsize=20) for i, y in zip(np.int64(phases), ylocs)]\n",
    "plt.gca().annotate('rocky core', xy=(0.43, 0.4), xycoords='data', fontsize=20)\n",
    "\n",
    "plt.gca().set_ylim(0.3, 1.1)\n",
    "plt.gca().set_xlim(0, 1.2)\n",
    "\n",
    "[plt.gca().add_patch(w) for w in wedges]\n",
    "plt.gca().add_patch(patches.Wedge((0.5, 0), 0.5, 0, 180, color='w'))\n",
    "plt.gca().add_patch(patches.Arc((0.5, 0), 1.0, 1.0, theta1=90 - ex, theta2=90 + ex))\n",
    "plt.gca().axis('off')"
   ]
  },
  {
   "cell_type": "code",
   "execution_count": 8,
   "id": "ef85af63-74bd-4f08-b60f-a736c62312ac",
   "metadata": {
    "tags": []
   },
   "outputs": [
    {
     "data": {
      "text/plain": [
       "<AxesSubplot:>"
      ]
     },
     "execution_count": 8,
     "metadata": {},
     "output_type": "execute_result"
    },
    {
     "data": {
      "image/png": "[encoded data removed]",
      "text/plain": [
       "<Figure size 1440x504 with 1 Axes>"
      ]
     },
     "metadata": {
      "needs_background": "light"
     },
     "output_type": "display_data"
    }
   ],
   "source": [
    "import plotting\n",
    "import matplotlib.pyplot as plt \n",
    "profile = np.loadtxt('zprofile20_e.out')\n",
    "profile = profile[10]\n",
    "\n",
    "fig = plt.figure(figsize=(20, 7))\n",
    "plotting.plot_wedge(plt.gca(), profile, extent=40)"
   ]
  },
  {
   "cell_type": "code",
   "execution_count": null,
   "id": "435bd4b1-11f7-473b-a63b-122d3dd00233",
   "metadata": {},
   "outputs": [],
   "source": []
  }
 ],
 "metadata": {
  "kernelspec": {
   "display_name": "Python 3",
   "language": "python",
   "name": "python3"
  },
  "language_info": {
   "codemirror_mode": {
    "name": "ipython",
    "version": 3
   },
   "file_extension": ".py",
   "mimetype": "text/x-python",
   "name": "python",
   "nbconvert_exporter": "python",
   "pygments_lexer": "ipython3",
   "version": "3.8.6"
  }
 },
 "nbformat": 4,
 "nbformat_minor": 5
}
