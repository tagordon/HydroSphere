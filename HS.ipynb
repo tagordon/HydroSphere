{
 "cells": [
  {
   "cell_type": "code",
   "execution_count": 7,
   "id": "b1f3ca5a-46ec-4c68-93d5-3910a21da4a0",
   "metadata": {
    "tags": []
   },
   "outputs": [],
   "source": [
    "import matplotlib.pyplot as plt\n",
    "from HydroSphere import HydroSphere"
   ]
  },
  {
   "cell_type": "code",
   "execution_count": 8,
   "id": "465bf8d9-9ffc-43f7-baff-885cf957b227",
   "metadata": {
    "tags": []
   },
   "outputs": [],
   "source": [
    "# helper function to compute structure as a function of bulk density and equilibrium surface temperature\n",
    "# assuming core density, water fraction, radius, and surface pressure\n",
    "def compute_structure(\n",
    "    rho_bulk, \n",
    "    Teq, \n",
    "    rho_core, \n",
    "    fwater, \n",
    "    R, \n",
    "    Psurf, \n",
    "    resolution=100, \n",
    "    M_thresh=0.01, \n",
    "    savefile=None\n",
    "):\n",
    "    \n",
    "    rho_bulk *= 5514\n",
    "    rho_core *= 5514\n",
    "    R *= 6.678e6\n",
    "    M = (4/3) * np.pi * R**3 * rho_bulk\n",
    "    Mw = M * mf\n",
    "    Rc = (M * (1 - mf) * 3 / (4 * np.pi)) ** (1/3)\n",
    "    \n",
    "    res = np.array(HydroSphere(Psurf, Teq, Mw, Rc, rho_core))\n",
    "    \n",
    "    if savefile is not None:\n",
    "        \n",
    "        # columns are z, rho, alpha, Cp, dT_dz, phase, T, P, g\n",
    "        np.savetxt(savefile, res.T)\n",
    "    else:\n",
    "        return res"
   ]
  },
  {
   "cell_type": "code",
   "execution_count": 5,
   "id": "5e601b38-a7d7-420b-b656-0f7353609f31",
   "metadata": {
    "tags": []
   },
   "outputs": [],
   "source": [
    "# trappist-1 G params\n",
    "\n",
    "rho = 0.917 # bulk density in earth units\n",
    "rhoc = 1.5 # core density in earth units\n",
    "mf = 0.1 # water / core\n",
    "R = 1.129 # in earth units\n",
    "Teq = 200 # K\n",
    "Ps = 0.1 # MPa \n",
    "\n",
    "res = compute_structure(rho, Teq, rhoc, mf, R, Ps, savefile='test.dat')"
   ]
  },
  {
   "cell_type": "code",
   "execution_count": 17,
   "id": "fd21c0d1-a5b2-4460-b5ab-720ebb95e1d3",
   "metadata": {
    "tags": []
   },
   "outputs": [],
   "source": [
    "D = np.linspace(0.5, 1.5, 5)\n",
    "T = np.linspace(150, 250, 5)\n",
    "D, T = np.meshgrid(rho, Teq)\n",
    "coords = [(i, D, T) for i, (D, T) in enumerate(zip(T.flatten(), D.flatten()))]\n",
    "\n",
    "for i, (T, D) in enumerate(zip(T, Dens)):\n",
    "    savefile = 'test{0}.dat'.format(i)\n",
    "    compute_structure(D, T, rhoc, mf, R, Ps, savefile=savefile)"
   ]
  },
  {
   "cell_type": "code",
   "execution_count": 20,
   "id": "c6c9fae1-bdff-48e2-a423-097ef9ad56db",
   "metadata": {
    "tags": []
   },
   "outputs": [],
   "source": [
    "def f(c):\n",
    "    i, D, T = c\n",
    "    savefile = 'out{0}.dat'.format(i)\n",
    "    compute_structure(D, T, rhoc, mf, R, Ps, savefile=savefile)\n",
    "\n",
    "coords = [(i, D, T) for i, (D, T) in enumerate(zip(T, Dens))]"
   ]
  },
  {
   "cell_type": "code",
   "execution_count": 24,
   "id": "7446ba96-1918-4931-8f36-02b8dba778b5",
   "metadata": {
    "tags": []
   },
   "outputs": [],
   "source": [
    "D = np.linspace(0.5, 1.5, 5)\n",
    "T = np.linspace(150, 250, 5)\n",
    "D, T = np.meshgrid(D, T)\n",
    "coords = [(i, D, T) for i, (D, T) in enumerate(zip(D.flatten(), T.flatten()))]"
   ]
  },
  {
   "cell_type": "code",
   "execution_count": 26,
   "id": "fb969127-d0bf-423a-9d71-251e58c9e3f1",
   "metadata": {
    "tags": []
   },
   "outputs": [
    {
     "data": {
      "text/plain": [
       "array([[150., 150., 150., 150., 150.],\n",
       "       [175., 175., 175., 175., 175.],\n",
       "       [200., 200., 200., 200., 200.],\n",
       "       [225., 225., 225., 225., 225.],\n",
       "       [250., 250., 250., 250., 250.]])"
      ]
     },
     "execution_count": 26,
     "metadata": {},
     "output_type": "execute_result"
    }
   ],
   "source": [
    "T"
   ]
  },
  {
   "cell_type": "code",
   "execution_count": null,
   "id": "161b8d06-4335-4dde-af8e-daff98de2040",
   "metadata": {},
   "outputs": [],
   "source": []
  }
 ],
 "metadata": {
  "kernelspec": {
   "display_name": "Python 3",
   "language": "python",
   "name": "python3"
  },
  "language_info": {
   "codemirror_mode": {
    "name": "ipython",
    "version": 3
   },
   "file_extension": ".py",
   "mimetype": "text/x-python",
   "name": "python",
   "nbconvert_exporter": "python",
   "pygments_lexer": "ipython3",
   "version": "3.8.6"
  }
 },
 "nbformat": 4,
 "nbformat_minor": 5
}
